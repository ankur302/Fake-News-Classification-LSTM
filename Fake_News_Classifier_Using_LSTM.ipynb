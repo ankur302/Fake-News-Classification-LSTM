{
  "nbformat": 4,
  "nbformat_minor": 0,
  "metadata": {
    "colab": {
      "name": "Fake_News_Classifier_Using_LSTM.ipynb",
      "provenance": [],
      "collapsed_sections": [],
      "mount_file_id": "1-jLd_ihMDpuKQjg1SLhBDyiGDMj9PZLm",
      "authorship_tag": "ABX9TyNUI5Gnx3+IIXNDcvdg7bds",
      "include_colab_link": true
    },
    "kernelspec": {
      "name": "python3",
      "display_name": "Python 3"
    },
    "language_info": {
      "name": "python"
    },
    "accelerator": "TPU"
  },
  "cells": [
    {
      "cell_type": "markdown",
      "metadata": {
        "id": "view-in-github",
        "colab_type": "text"
      },
      "source": [
        "<a href=\"https://colab.research.google.com/github/ankur302/Fake-News-Classification-LSTM/blob/main/Fake_News_Classifier_Using_LSTM.ipynb\" target=\"_parent\"><img src=\"https://colab.research.google.com/assets/colab-badge.svg\" alt=\"Open In Colab\"/></a>"
      ]
    },
    {
      "cell_type": "code",
      "metadata": {
        "id": "ziggMAb9Fwp_"
      },
      "source": [
        "import pandas as pd\n",
        "import numpy as np\n",
        "from tensorflow.keras.models import Sequential\n",
        "from tensorflow.keras.layers import LSTM,Dense,Embedding\n",
        "from tensorflow.keras.preprocessing.sequence import pad_sequences \n",
        "from tensorflow.keras.preprocessing.text import one_hot "
      ],
      "execution_count": 2,
      "outputs": []
    },
    {
      "cell_type": "code",
      "metadata": {
        "id": "MIxTU8LVHGRJ"
      },
      "source": [
        "train = pd.read_csv(\"/content/drive/MyDrive/My_Data/FakeNews/train.csv\")\n",
        "test_df = pd.read_csv(\"/content/drive/MyDrive/My_Data/FakeNews/test.csv\")"
      ],
      "execution_count": 37,
      "outputs": []
    },
    {
      "cell_type": "code",
      "metadata": {
        "id": "FPdQk4jszQTI"
      },
      "source": [
        "train_df = train.drop(\"label\",axis=1)"
      ],
      "execution_count": 38,
      "outputs": []
    },
    {
      "cell_type": "code",
      "metadata": {
        "id": "-ognrZhz0xR1"
      },
      "source": [
        "train_df[\"train/test\"] = \"train\"\n",
        "test_df[\"train/test\"] = \"test\""
      ],
      "execution_count": 39,
      "outputs": []
    },
    {
      "cell_type": "code",
      "metadata": {
        "colab": {
          "base_uri": "https://localhost:8080/",
          "height": 459
        },
        "id": "Bx3zb9cwHGPc",
        "outputId": "54b06541-0087-49a5-9599-c7abf2ed7c7a"
      },
      "source": [
        "display(print(train_df.shape),train_df.head(),print(test_df.shape),test_df.head())"
      ],
      "execution_count": 22,
      "outputs": [
        {
          "output_type": "stream",
          "text": [
            "(20800, 5)\n",
            "(5200, 5)\n"
          ],
          "name": "stdout"
        },
        {
          "output_type": "display_data",
          "data": {
            "text/plain": [
              "None"
            ]
          },
          "metadata": {
            "tags": []
          }
        },
        {
          "output_type": "display_data",
          "data": {
            "text/html": [
              "<div>\n",
              "<style scoped>\n",
              "    .dataframe tbody tr th:only-of-type {\n",
              "        vertical-align: middle;\n",
              "    }\n",
              "\n",
              "    .dataframe tbody tr th {\n",
              "        vertical-align: top;\n",
              "    }\n",
              "\n",
              "    .dataframe thead th {\n",
              "        text-align: right;\n",
              "    }\n",
              "</style>\n",
              "<table border=\"1\" class=\"dataframe\">\n",
              "  <thead>\n",
              "    <tr style=\"text-align: right;\">\n",
              "      <th></th>\n",
              "      <th>id</th>\n",
              "      <th>title</th>\n",
              "      <th>author</th>\n",
              "      <th>text</th>\n",
              "      <th>train/test</th>\n",
              "    </tr>\n",
              "  </thead>\n",
              "  <tbody>\n",
              "    <tr>\n",
              "      <th>0</th>\n",
              "      <td>0</td>\n",
              "      <td>House Dem Aide: We Didn’t Even See Comey’s Let...</td>\n",
              "      <td>Darrell Lucus</td>\n",
              "      <td>House Dem Aide: We Didn’t Even See Comey’s Let...</td>\n",
              "      <td>train</td>\n",
              "    </tr>\n",
              "    <tr>\n",
              "      <th>1</th>\n",
              "      <td>1</td>\n",
              "      <td>FLYNN: Hillary Clinton, Big Woman on Campus - ...</td>\n",
              "      <td>Daniel J. Flynn</td>\n",
              "      <td>Ever get the feeling your life circles the rou...</td>\n",
              "      <td>train</td>\n",
              "    </tr>\n",
              "    <tr>\n",
              "      <th>2</th>\n",
              "      <td>2</td>\n",
              "      <td>Why the Truth Might Get You Fired</td>\n",
              "      <td>Consortiumnews.com</td>\n",
              "      <td>Why the Truth Might Get You Fired October 29, ...</td>\n",
              "      <td>train</td>\n",
              "    </tr>\n",
              "    <tr>\n",
              "      <th>3</th>\n",
              "      <td>3</td>\n",
              "      <td>15 Civilians Killed In Single US Airstrike Hav...</td>\n",
              "      <td>Jessica Purkiss</td>\n",
              "      <td>Videos 15 Civilians Killed In Single US Airstr...</td>\n",
              "      <td>train</td>\n",
              "    </tr>\n",
              "    <tr>\n",
              "      <th>4</th>\n",
              "      <td>4</td>\n",
              "      <td>Iranian woman jailed for fictional unpublished...</td>\n",
              "      <td>Howard Portnoy</td>\n",
              "      <td>Print \\nAn Iranian woman has been sentenced to...</td>\n",
              "      <td>train</td>\n",
              "    </tr>\n",
              "  </tbody>\n",
              "</table>\n",
              "</div>"
            ],
            "text/plain": [
              "   id  ... train/test\n",
              "0   0  ...      train\n",
              "1   1  ...      train\n",
              "2   2  ...      train\n",
              "3   3  ...      train\n",
              "4   4  ...      train\n",
              "\n",
              "[5 rows x 5 columns]"
            ]
          },
          "metadata": {
            "tags": []
          }
        },
        {
          "output_type": "display_data",
          "data": {
            "text/plain": [
              "None"
            ]
          },
          "metadata": {
            "tags": []
          }
        },
        {
          "output_type": "display_data",
          "data": {
            "text/html": [
              "<div>\n",
              "<style scoped>\n",
              "    .dataframe tbody tr th:only-of-type {\n",
              "        vertical-align: middle;\n",
              "    }\n",
              "\n",
              "    .dataframe tbody tr th {\n",
              "        vertical-align: top;\n",
              "    }\n",
              "\n",
              "    .dataframe thead th {\n",
              "        text-align: right;\n",
              "    }\n",
              "</style>\n",
              "<table border=\"1\" class=\"dataframe\">\n",
              "  <thead>\n",
              "    <tr style=\"text-align: right;\">\n",
              "      <th></th>\n",
              "      <th>id</th>\n",
              "      <th>title</th>\n",
              "      <th>author</th>\n",
              "      <th>text</th>\n",
              "      <th>train/test</th>\n",
              "    </tr>\n",
              "  </thead>\n",
              "  <tbody>\n",
              "    <tr>\n",
              "      <th>0</th>\n",
              "      <td>20800</td>\n",
              "      <td>Specter of Trump Loosens Tongues, if Not Purse...</td>\n",
              "      <td>David Streitfeld</td>\n",
              "      <td>PALO ALTO, Calif.  —   After years of scorning...</td>\n",
              "      <td>test</td>\n",
              "    </tr>\n",
              "    <tr>\n",
              "      <th>1</th>\n",
              "      <td>20801</td>\n",
              "      <td>Russian warships ready to strike terrorists ne...</td>\n",
              "      <td>NaN</td>\n",
              "      <td>Russian warships ready to strike terrorists ne...</td>\n",
              "      <td>test</td>\n",
              "    </tr>\n",
              "    <tr>\n",
              "      <th>2</th>\n",
              "      <td>20802</td>\n",
              "      <td>#NoDAPL: Native American Leaders Vow to Stay A...</td>\n",
              "      <td>Common Dreams</td>\n",
              "      <td>Videos #NoDAPL: Native American Leaders Vow to...</td>\n",
              "      <td>test</td>\n",
              "    </tr>\n",
              "    <tr>\n",
              "      <th>3</th>\n",
              "      <td>20803</td>\n",
              "      <td>Tim Tebow Will Attempt Another Comeback, This ...</td>\n",
              "      <td>Daniel Victor</td>\n",
              "      <td>If at first you don’t succeed, try a different...</td>\n",
              "      <td>test</td>\n",
              "    </tr>\n",
              "    <tr>\n",
              "      <th>4</th>\n",
              "      <td>20804</td>\n",
              "      <td>Keiser Report: Meme Wars (E995)</td>\n",
              "      <td>Truth Broadcast Network</td>\n",
              "      <td>42 mins ago 1 Views 0 Comments 0 Likes 'For th...</td>\n",
              "      <td>test</td>\n",
              "    </tr>\n",
              "  </tbody>\n",
              "</table>\n",
              "</div>"
            ],
            "text/plain": [
              "      id  ... train/test\n",
              "0  20800  ...       test\n",
              "1  20801  ...       test\n",
              "2  20802  ...       test\n",
              "3  20803  ...       test\n",
              "4  20804  ...       test\n",
              "\n",
              "[5 rows x 5 columns]"
            ]
          },
          "metadata": {
            "tags": []
          }
        }
      ]
    },
    {
      "cell_type": "code",
      "metadata": {
        "id": "fVG3pIFrHGMX"
      },
      "source": [
        "combined_df = pd.concat([train_df,test_df],axis=0)"
      ],
      "execution_count": 90,
      "outputs": []
    },
    {
      "cell_type": "markdown",
      "metadata": {
        "id": "xdMdfgfez6zp"
      },
      "source": [
        "## Data Preprocessing"
      ]
    },
    {
      "cell_type": "code",
      "metadata": {
        "id": "jRax6-7dHGKO"
      },
      "source": [
        "combined_df = combined_df.drop([\"id\",\"title\",\"author\"],axis=1)"
      ],
      "execution_count": 91,
      "outputs": []
    },
    {
      "cell_type": "code",
      "metadata": {
        "id": "iYmLU_m1HGFm",
        "colab": {
          "base_uri": "https://localhost:8080/"
        },
        "outputId": "3c7623a4-8303-4194-906a-b63c1c9e3118"
      },
      "source": [
        "combined_df.isnull().sum()"
      ],
      "execution_count": 92,
      "outputs": [
        {
          "output_type": "execute_result",
          "data": {
            "text/plain": [
              "text          46\n",
              "train/test     0\n",
              "dtype: int64"
            ]
          },
          "metadata": {
            "tags": []
          },
          "execution_count": 92
        }
      ]
    },
    {
      "cell_type": "code",
      "metadata": {
        "id": "GPe643azHGDF"
      },
      "source": [
        "combined_df.fillna(' ',inplace=True)"
      ],
      "execution_count": 93,
      "outputs": []
    },
    {
      "cell_type": "code",
      "metadata": {
        "id": "Ufb_7Kex6rfB"
      },
      "source": [
        "import nltk\n",
        "nltk.download(\"all\")\n"
      ],
      "execution_count": null,
      "outputs": []
    },
    {
      "cell_type": "code",
      "metadata": {
        "id": "V_hf-ulvHGAe"
      },
      "source": [
        "import re\n",
        "from nltk.corpus import stopwords\n",
        "from nltk.stem import WordNetLemmatizer\n",
        "lemmatizer = WordNetLemmatizer()\n",
        "def cleaning(text):\n",
        "  cleaned_text = re.sub(\"[^a-zA-Z]\",\" \",text)\n",
        "  \n",
        "  cleaned_text = cleaned_text.lower()\n",
        "  \n",
        "  cleaned_text = cleaned_text.split()\n",
        "  \n",
        "  cleaned_text = [lemmatizer.lemmatize(word) for word in cleaned_text if not word  in stopwords.words(\"english\")] \n",
        "  \n",
        "  cleaned_text  = ' '.join(cleaned_text)\n",
        "  \n",
        "  print('\\n'*4,cleaned_text)\n",
        "  \n",
        "  return cleaned_text\n",
        "combined_df['cleaned_text'] = combined_df['text'].apply(lambda x : cleaning(x))"
      ],
      "execution_count": null,
      "outputs": []
    },
    {
      "cell_type": "code",
      "metadata": {
        "colab": {
          "base_uri": "https://localhost:8080/",
          "height": 419
        },
        "id": "qg9ntW2JjIme",
        "outputId": "ed653bcd-c457-410f-c060-28859aa4c7d1"
      },
      "source": [
        "combined_df"
      ],
      "execution_count": 98,
      "outputs": [
        {
          "output_type": "execute_result",
          "data": {
            "text/html": [
              "<div>\n",
              "<style scoped>\n",
              "    .dataframe tbody tr th:only-of-type {\n",
              "        vertical-align: middle;\n",
              "    }\n",
              "\n",
              "    .dataframe tbody tr th {\n",
              "        vertical-align: top;\n",
              "    }\n",
              "\n",
              "    .dataframe thead th {\n",
              "        text-align: right;\n",
              "    }\n",
              "</style>\n",
              "<table border=\"1\" class=\"dataframe\">\n",
              "  <thead>\n",
              "    <tr style=\"text-align: right;\">\n",
              "      <th></th>\n",
              "      <th>text</th>\n",
              "      <th>train/test</th>\n",
              "      <th>cleaned_text</th>\n",
              "    </tr>\n",
              "  </thead>\n",
              "  <tbody>\n",
              "    <tr>\n",
              "      <th>0</th>\n",
              "      <td>House Dem Aide: We Didn’t Even See Comey’s Let...</td>\n",
              "      <td>train</td>\n",
              "      <td>house dem aide even see comey letter jason cha...</td>\n",
              "    </tr>\n",
              "    <tr>\n",
              "      <th>1</th>\n",
              "      <td>Ever get the feeling your life circles the rou...</td>\n",
              "      <td>train</td>\n",
              "      <td>ever get feeling life circle roundabout rather...</td>\n",
              "    </tr>\n",
              "    <tr>\n",
              "      <th>2</th>\n",
              "      <td>Why the Truth Might Get You Fired October 29, ...</td>\n",
              "      <td>train</td>\n",
              "      <td>truth might get fired october tension intellig...</td>\n",
              "    </tr>\n",
              "    <tr>\n",
              "      <th>3</th>\n",
              "      <td>Videos 15 Civilians Killed In Single US Airstr...</td>\n",
              "      <td>train</td>\n",
              "      <td>video civilian killed single u airstrike ident...</td>\n",
              "    </tr>\n",
              "    <tr>\n",
              "      <th>4</th>\n",
              "      <td>Print \\nAn Iranian woman has been sentenced to...</td>\n",
              "      <td>train</td>\n",
              "      <td>print iranian woman sentenced six year prison ...</td>\n",
              "    </tr>\n",
              "    <tr>\n",
              "      <th>...</th>\n",
              "      <td>...</td>\n",
              "      <td>...</td>\n",
              "      <td>...</td>\n",
              "    </tr>\n",
              "    <tr>\n",
              "      <th>5195</th>\n",
              "      <td>Of all the dysfunctions that plague the world’...</td>\n",
              "      <td>test</td>\n",
              "      <td>dysfunction plague world megacities none may p...</td>\n",
              "    </tr>\n",
              "    <tr>\n",
              "      <th>5196</th>\n",
              "      <td>WASHINGTON  —   Gov. John Kasich of Ohio on Tu...</td>\n",
              "      <td>test</td>\n",
              "      <td>washington gov john kasich ohio tuesday signed...</td>\n",
              "    </tr>\n",
              "    <tr>\n",
              "      <th>5197</th>\n",
              "      <td>Good morning. (Want to get California Today by...</td>\n",
              "      <td>test</td>\n",
              "      <td>good morning want get california today email j...</td>\n",
              "    </tr>\n",
              "    <tr>\n",
              "      <th>5198</th>\n",
              "      <td>« Previous - Next » 300 US Marines To Be Deplo...</td>\n",
              "      <td>test</td>\n",
              "      <td>previous next u marine deployed russian border...</td>\n",
              "    </tr>\n",
              "    <tr>\n",
              "      <th>5199</th>\n",
              "      <td>Perhaps you’ve seen the new TV series whose pi...</td>\n",
              "      <td>test</td>\n",
              "      <td>perhaps seen new tv series whose pilot episode...</td>\n",
              "    </tr>\n",
              "  </tbody>\n",
              "</table>\n",
              "<p>26000 rows × 3 columns</p>\n",
              "</div>"
            ],
            "text/plain": [
              "                                                   text  ...                                       cleaned_text\n",
              "0     House Dem Aide: We Didn’t Even See Comey’s Let...  ...  house dem aide even see comey letter jason cha...\n",
              "1     Ever get the feeling your life circles the rou...  ...  ever get feeling life circle roundabout rather...\n",
              "2     Why the Truth Might Get You Fired October 29, ...  ...  truth might get fired october tension intellig...\n",
              "3     Videos 15 Civilians Killed In Single US Airstr...  ...  video civilian killed single u airstrike ident...\n",
              "4     Print \\nAn Iranian woman has been sentenced to...  ...  print iranian woman sentenced six year prison ...\n",
              "...                                                 ...  ...                                                ...\n",
              "5195  Of all the dysfunctions that plague the world’...  ...  dysfunction plague world megacities none may p...\n",
              "5196  WASHINGTON  —   Gov. John Kasich of Ohio on Tu...  ...  washington gov john kasich ohio tuesday signed...\n",
              "5197  Good morning. (Want to get California Today by...  ...  good morning want get california today email j...\n",
              "5198  « Previous - Next » 300 US Marines To Be Deplo...  ...  previous next u marine deployed russian border...\n",
              "5199  Perhaps you’ve seen the new TV series whose pi...  ...  perhaps seen new tv series whose pilot episode...\n",
              "\n",
              "[26000 rows x 3 columns]"
            ]
          },
          "metadata": {
            "tags": []
          },
          "execution_count": 98
        }
      ]
    },
    {
      "cell_type": "markdown",
      "metadata": {
        "id": "T4Yiea4vAxFW"
      },
      "source": [
        "## Vector Representation Of the words"
      ]
    },
    {
      "cell_type": "code",
      "metadata": {
        "id": "3bgPFHnnHF0V"
      },
      "source": [
        "train_df = combined_df[combined_df['train/test']=='train']\n",
        "test_df = combined_df[combined_df['train/test']=='test']"
      ],
      "execution_count": 99,
      "outputs": []
    },
    {
      "cell_type": "code",
      "metadata": {
        "id": "0P3TekhJCAZN"
      },
      "source": [
        "from keras.preprocessing.text import one_hot\n",
        "vocab_size= 10000\n",
        "\n",
        "def one_hot_func(data):\n",
        "  sentence = []\n",
        "  for i in range(0,len(data)):\n",
        "    sentence.append(data[\"cleaned_text\"][i])\n",
        "  encoded = [one_hot(word,vocab_size) for word in sentence]\n",
        "  return encoded\n",
        "\n",
        "one_hot_encode_train = one_hot_func(train_df)\n",
        "one_hot_encode_test = one_hot_func(test_df)\n"
      ],
      "execution_count": 105,
      "outputs": []
    },
    {
      "cell_type": "markdown",
      "metadata": {
        "id": "nXnyMLkdRXFG"
      },
      "source": [
        "# Text Padding"
      ]
    },
    {
      "cell_type": "code",
      "metadata": {
        "id": "PkHJCmc0CAT8"
      },
      "source": [
        "from keras.preprocessing.sequence import pad_sequences\n",
        "text_length= 1000\n",
        "\n",
        "# applying padding to one-hot encoded train_data\n",
        "train_padded= pad_sequences(one_hot_encode_train, padding= \"pre\", maxlen=text_length)\n",
        "\n",
        "# applying padding to one-hot encoded test_data\n",
        "test_padded= pad_sequences(one_hot_encode_test, padding= \"pre\", maxlen=text_length)"
      ],
      "execution_count": 116,
      "outputs": []
    },
    {
      "cell_type": "markdown",
      "metadata": {
        "id": "EzVIQJeeTsGu"
      },
      "source": [
        "## Model Creation"
      ]
    },
    {
      "cell_type": "code",
      "metadata": {
        "id": "2cT5jtCfTn3Q"
      },
      "source": [
        "X = np.array(train_padded)\n",
        "y = np.array(train.label)"
      ],
      "execution_count": 118,
      "outputs": []
    },
    {
      "cell_type": "code",
      "metadata": {
        "id": "kBtRhZVXCAQ4"
      },
      "source": [
        "from sklearn.model_selection import train_test_split\n",
        "X_train,X_test,y_train,y_test = train_test_split(X,y,test_size=0.33,random_state=42)"
      ],
      "execution_count": 119,
      "outputs": []
    },
    {
      "cell_type": "code",
      "metadata": {
        "id": "_ddNJ6lNHFxn",
        "colab": {
          "base_uri": "https://localhost:8080/"
        },
        "outputId": "58331dc2-20e0-481f-9565-c9cc2dd2c552"
      },
      "source": [
        "from keras.layers import Dropout\n",
        "embedding_vector_features = 50\n",
        "model = Sequential()\n",
        "model.add(Embedding(vocab_size,embedding_vector_features,input_length = text_length))\n",
        "model.add(Dropout(0.25))\n",
        "\n",
        "model.add(LSTM(250))\n",
        "model.add(Dense(1,activation='sigmoid'))\n",
        "\n",
        "model.summary()"
      ],
      "execution_count": 122,
      "outputs": [
        {
          "output_type": "stream",
          "text": [
            "Model: \"sequential_2\"\n",
            "_________________________________________________________________\n",
            "Layer (type)                 Output Shape              Param #   \n",
            "=================================================================\n",
            "embedding_2 (Embedding)      (None, 1000, 50)          500000    \n",
            "_________________________________________________________________\n",
            "dropout_1 (Dropout)          (None, 1000, 50)          0         \n",
            "_________________________________________________________________\n",
            "lstm_1 (LSTM)                (None, 250)               301000    \n",
            "_________________________________________________________________\n",
            "dense_1 (Dense)              (None, 1)                 251       \n",
            "=================================================================\n",
            "Total params: 801,251\n",
            "Trainable params: 801,251\n",
            "Non-trainable params: 0\n",
            "_________________________________________________________________\n"
          ],
          "name": "stdout"
        }
      ]
    },
    {
      "cell_type": "code",
      "metadata": {
        "colab": {
          "base_uri": "https://localhost:8080/"
        },
        "id": "F6-UIfnlWphc",
        "outputId": "38601dfb-f177-424b-94db-280d539b56a4"
      },
      "source": [
        "model.compile(optimizer='adam',loss='binary_crossentropy',metrics=['accuracy'])\n",
        "history = model.fit(X_train,y_train,validation_data=(X_test,y_test),epochs=10,batch_size=100)"
      ],
      "execution_count": 123,
      "outputs": [
        {
          "output_type": "stream",
          "text": [
            "Epoch 1/10\n",
            "140/140 [==============================] - 1026s 7s/step - loss: 0.6089 - accuracy: 0.6511 - val_loss: 0.4347 - val_accuracy: 0.8307\n",
            "Epoch 2/10\n",
            "140/140 [==============================] - 1061s 8s/step - loss: 0.4415 - accuracy: 0.7866 - val_loss: 0.2441 - val_accuracy: 0.9095\n",
            "Epoch 3/10\n",
            "140/140 [==============================] - 1049s 7s/step - loss: 0.4465 - accuracy: 0.7900 - val_loss: 0.2762 - val_accuracy: 0.8829\n",
            "Epoch 4/10\n",
            "140/140 [==============================] - 1040s 7s/step - loss: 0.3395 - accuracy: 0.8563 - val_loss: 0.3688 - val_accuracy: 0.8287\n",
            "Epoch 5/10\n",
            "140/140 [==============================] - 1067s 8s/step - loss: 0.2508 - accuracy: 0.8994 - val_loss: 0.2699 - val_accuracy: 0.9034\n",
            "Epoch 6/10\n",
            "140/140 [==============================] - 1053s 8s/step - loss: 0.1635 - accuracy: 0.9383 - val_loss: 0.2811 - val_accuracy: 0.8830\n",
            "Epoch 7/10\n",
            "140/140 [==============================] - 1048s 7s/step - loss: 0.1396 - accuracy: 0.9464 - val_loss: 0.2831 - val_accuracy: 0.9015\n",
            "Epoch 8/10\n",
            "140/140 [==============================] - 1043s 7s/step - loss: 0.1186 - accuracy: 0.9572 - val_loss: 0.2500 - val_accuracy: 0.9098\n",
            "Epoch 9/10\n",
            "140/140 [==============================] - 1052s 8s/step - loss: 0.0683 - accuracy: 0.9745 - val_loss: 0.2761 - val_accuracy: 0.9142\n",
            "Epoch 10/10\n",
            "140/140 [==============================] - 1046s 7s/step - loss: 0.0571 - accuracy: 0.9835 - val_loss: 0.2883 - val_accuracy: 0.8974\n"
          ],
          "name": "stdout"
        }
      ]
    },
    {
      "cell_type": "code",
      "metadata": {
        "colab": {
          "base_uri": "https://localhost:8080/",
          "height": 573
        },
        "id": "eer5vVIVWpex",
        "outputId": "acd1cb0b-fab6-4f64-df9e-d501bb5e85ab"
      },
      "source": [
        "import matplotlib.pyplot as plt\n",
        "%matplotlib inline\n",
        "\n",
        "epochs= range(len(history.history[\"accuracy\"]))\n",
        "# accuracy plot\n",
        "plt.plot(epochs, history.history[\"accuracy\"])\n",
        "plt.plot(epochs, history.history[\"val_accuracy\"])\n",
        "plt.xlabel(\"epoch\")\n",
        "plt.ylabel(\"accuracy\")\n",
        "plt.title(\"Accuracy\")\n",
        "plt.legend([\"train_data\", \"validation_data\"])\n",
        "plt.show()\n",
        "\n",
        "# loss plot\n",
        "plt.plot(epochs, history.history[\"loss\"])\n",
        "plt.plot(epochs, history.history[\"val_loss\"])\n",
        "plt.xlabel(\"epoch\")\n",
        "plt.ylabel(\"loss\")\n",
        "plt.title(\"Loss\")\n",
        "plt.legend([\"train_data\", \"validation_data\"])\n",
        "plt.show()"
      ],
      "execution_count": 127,
      "outputs": [
        {
          "output_type": "display_data",
          "data": {
            "image/png": "[encoded data removed]",
            "text/plain": [
              "<Figure size 432x288 with 1 Axes>"
            ]
          },
          "metadata": {
            "tags": [],
            "needs_background": "light"
          }
        },
        {
          "output_type": "display_data",
          "data": {
            "image/png": "[encoded data removed]",
            "text/plain": [
              "<Figure size 432x288 with 1 Axes>"
            ]
          },
          "metadata": {
            "tags": [],
            "needs_background": "light"
          }
        }
      ]
    },
    {
      "cell_type": "code",
      "metadata": {
        "colab": {
          "base_uri": "https://localhost:8080/",
          "height": 422
        },
        "id": "nREGPZrTCHZK",
        "outputId": "bb4f4ec9-eeb9-4eda-e0f6-d4324edaae11"
      },
      "source": [
        "pred_val= model.predict_classes(X_test)\n",
        "\n",
        "from sklearn.metrics import confusion_matrix\n",
        "from mlxtend.plotting import plot_confusion_matrix\n",
        "\n",
        "cm= confusion_matrix(y_test, pred_val)\n",
        "plot_confusion_matrix(cm, figsize=(5,5))"
      ],
      "execution_count": 135,
      "outputs": [
        {
          "output_type": "stream",
          "text": [
            "/usr/local/lib/python3.7/dist-packages/tensorflow/python/keras/engine/sequential.py:450: UserWarning: `model.predict_classes()` is deprecated and will be removed after 2021-01-01. Please use instead:* `np.argmax(model.predict(x), axis=-1)`,   if your model does multi-class classification   (e.g. if it uses a `softmax` last-layer activation).* `(model.predict(x) > 0.5).astype(\"int32\")`,   if your model does binary classification   (e.g. if it uses a `sigmoid` last-layer activation).\n",
            "  warnings.warn('`model.predict_classes()` is deprecated and '\n"
          ],
          "name": "stderr"
        },
        {
          "output_type": "execute_result",
          "data": {
            "text/plain": [
              "(<Figure size 360x360 with 1 Axes>,\n",
              " <matplotlib.axes._subplots.AxesSubplot at 0x7f072c033850>)"
            ]
          },
          "metadata": {
            "tags": []
          },
          "execution_count": 135
        },
        {
          "output_type": "display_data",
          "data": {
            "image/png": "[encoded data removed]",
            "text/plain": [
              "<Figure size 360x360 with 1 Axes>"
            ]
          },
          "metadata": {
            "tags": [],
            "needs_background": "light"
          }
        }
      ]
    },
    {
      "cell_type": "code",
      "metadata": {
        "colab": {
          "base_uri": "https://localhost:8080/"
        },
        "id": "uMis-3HgFSOe",
        "outputId": "8127ae08-2f71-450a-ff89-01cb93fa8778"
      },
      "source": [
        "from sklearn.metrics import accuracy_score\n",
        "accuracy_score(y_test,pred_val)"
      ],
      "execution_count": 147,
      "outputs": [
        {
          "output_type": "execute_result",
          "data": {
            "text/plain": [
              "0.8974358974358975"
            ]
          },
          "metadata": {
            "tags": []
          },
          "execution_count": 147
        }
      ]
    },
    {
      "cell_type": "code",
      "metadata": {
        "id": "mvTSAS_aWpRM"
      },
      "source": [
        ""
      ],
      "execution_count": null,
      "outputs": []
    }
  ]
}